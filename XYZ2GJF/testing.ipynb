{
 "cells": [
  {
   "cell_type": "code",
   "execution_count": null,
   "metadata": {
    "collapsed": true,
    "pycharm": {
     "name": "#%%\n"
    }
   },
   "outputs": [],
   "source": []
  },
  {
   "cell_type": "code",
   "execution_count": null,
   "outputs": [],
   "source": [
    "import os\n",
    "\n",
    "def read_xyz_file(filename):\n",
    "    with open(filename, 'r') as f:\n",
    "        lines = f.readlines()\n",
    "        n_atoms = int(lines[0])\n",
    "        coordinates = []\n",
    "        for line in lines[2:]:\n",
    "            split_line = line.split()\n",
    "            symbol, x, y, z = split_line[0], float(split_line[1]), float(split_line[2]), float(split_line[3])\n",
    "            coordinates.append([symbol, x, y, z])\n",
    "        return coordinates"
   ],
   "metadata": {
    "collapsed": false,
    "pycharm": {
     "name": "#%%\n",
     "is_executing": true
    }
   }
  },
  {
   "cell_type": "code",
   "execution_count": null,
   "outputs": [],
   "source": [
    "\n",
    "def generate_gaussian_input(file_name, coordinates, frozen_atoms, dir_path, subdirectory_path):\n",
    "    with open(os.path.join(subdirectory_path, file_name + '.gjf'), 'w') as f:\n",
    "        f.write(f\"%nprocshared=32\\n%mem=96GB\\n%chk={file_name}.chk\\n\")\n",
    "        f.write(f\"#p M062X/def2SVP opt=modredundant geom=connectivity empiricaldispersion=gd3 scrf=(smd,solvent=dichloromethane) NoSymm\\n\\n\")\n",
    "        f.write(f\"{file_name}\\n\\n\")\n",
    "        f.write(\"1 2\\n\")\n",
    "        for i, coord in enumerate(coordinates):\n",
    "            f.write(str(coord[0]) + \" \")\n",
    "            if i in frozen_atoms:\n",
    "                f.write(\" -1 \")\n",
    "            else:\n",
    "                f.write(\" 0 \")\n",
    "            symbol, x, y, z = coord[0], coord[1], coord[2], coord[3]\n",
    "            f.write(f\"{x:.6f} {y:.6f} {z:.6f}\\n\")\n",
    "        f.write(f\"\\n\")"
   ],
   "metadata": {
    "collapsed": false,
    "pycharm": {
     "name": "#%%\n"
    }
   }
  },
  {
   "cell_type": "code",
   "execution_count": null,
   "outputs": [],
   "source": [
    "\n",
    "def generate_batch_file(file_name, subdirectory_path):\n",
    "    with open(os.path.join(subdirectory_path, 'run.sh'), 'w') as f:\n",
    "        f.write(f'#!/bin/bash\\n#SBATCH --job-name=gaussian_run\\n')\n",
    "        f.write(f'#SBATCH --mem-per-cpu=3000M\\n')\n",
    "        f.write(f'#SBATCH --cpus-per-task=32\\n')\n",
    "        f.write(f'#SBATCH --ntasks=1\\n')\n",
    "        f.write(f'#SBATCH --time=00-24:00\\n')\n",
    "        f.write(f'module load gaussian/g16.c01\\n')\n",
    "        f.write(f'g16 < {file_name}.gjf >& {file_name}.log\\n')\n",
    "        f.write(f'formchk {file_name}.chk {file_name}.fchk\\n')"
   ],
   "metadata": {
    "collapsed": false,
    "pycharm": {
     "name": "#%%\n"
    }
   }
  },
  {
   "cell_type": "code",
   "execution_count": null,
   "outputs": [],
   "source": [
    "\n",
    "def main():\n",
    "    frozen_atoms = list(range(0, 0))\n",
    "    cwd = os.getcwd()\n",
    "    for xyz_file in os.listdir(cwd):\n",
    "        if xyz_file.endswith('.xyz'):\n",
    "            file_name = os.path.splitext(xyz_file)[0]\n",
    "            subdirectory_path = ''\n",
    "            if '_' in file_name:\n",
    "                directory_name, subdirectory_name = file_name.split('_')[:-1], file_name.split('_')[-1]\n",
    "                subdirectory_path = os.path.join(*directory_name, subdirectory_name)\n",
    "            else:\n",
    "                subdirectory_name = file_name\n",
    "            dir_path = os.path.join(cwd, subdirectory_name)\n",
    "            if not os.path.exists(dir_path):\n",
    "                os.makedirs(dir_path)\n",
    "            generate_gaussian_input(file_name, read_xyz_file(os.path.join(cwd, xyz_file)), frozen_atoms, cwd, dir_path)\n",
    "            generate_batch_file(file_name, dir_path)"
   ],
   "metadata": {
    "collapsed": false,
    "pycharm": {
     "name": "#%%\n"
    }
   }
  },
  {
   "cell_type": "code",
   "execution_count": null,
   "outputs": [],
   "source": [
    "\n",
    "if __name__ == \"__main__\":\n",
    "    main()\n"
   ],
   "metadata": {
    "collapsed": false,
    "pycharm": {
     "name": "#%%\n"
    }
   }
  }
 ],
 "metadata": {
  "kernelspec": {
   "display_name": "Python 3",
   "language": "python",
   "name": "python3"
  },
  "language_info": {
   "codemirror_mode": {
    "name": "ipython",
    "version": 2
   },
   "file_extension": ".py",
   "mimetype": "text/x-python",
   "name": "python",
   "nbconvert_exporter": "python",
   "pygments_lexer": "ipython2",
   "version": "2.7.6"
  }
 },
 "nbformat": 4,
 "nbformat_minor": 0
}