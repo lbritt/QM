{
 "cells": [
  {
   "cell_type": "code",
   "execution_count": 1,
   "outputs": [],
   "source": [
    "\n",
    "import pandas as pd\n",
    "import matplotlib.pyplot as plt\n",
    "from mpl_toolkits import mplot3d"
   ],
   "metadata": {
    "collapsed": false,
    "pycharm": {
     "name": "#%%\n"
    }
   }
  },
  {
   "cell_type": "code",
   "execution_count": null,
   "outputs": [],
   "source": [
    "\n",
    "# read data from Excel file\n",
    "df = pd.read_csv('data2.csv', skiprows=1, nrows=629)\n",
    "\n",
    "\n",
    "\n",
    "\n",
    " # extract columns as lists\n",
    "distance = df.iloc[:, 0].tolist() # extract first column (index 0)\n",
    "angle = df.iloc[:, 1].tolist() # extract second column (index 1)\n",
    "energy = df.iloc[:, 2].tolist() # extract third column (index 2)"
   ],
   "metadata": {
    "collapsed": false,
    "pycharm": {
     "name": "#%%\n",
     "is_executing": true
    }
   }
  },
  {
   "cell_type": "code",
   "execution_count": null,
   "outputs": [],
   "source": [
    "\n",
    "#distance = df.iloc[0:572, 1] # df[\"Title\"].iloc[:] #extracts the column titled \"Title\"\n",
    "#angle = df.iloc[572:1144, 1]\n",
    "#energy = df.iloc[1144:1716, 1]\n",
    "\n",
    "\n",
    "\n",
    "# convert units\n",
    "distance = [x/1 for x in distance] # divide by 10 to convert to nm\n",
    "energy = [x*627 for x in energy] # multiply by 627 to convert to kcal/mol"
   ],
   "metadata": {
    "collapsed": false,
    "pycharm": {
     "name": "#%%\n"
    }
   }
  },
  {
   "cell_type": "code",
   "execution_count": null,
   "outputs": [],
   "source": [
    "\n",
    "# create 3D plot\n",
    "fig = plt.figure()\n",
    "ax = plt.axes(projection='3d')\n",
    "ax.plot_trisurf(distance, angle, energy, cmap='viridis', edgecolor='none')\n",
    "\n",
    "# add labels and title\n",
    "ax.set_xlabel('Angle (degree)')\n",
    "ax.set_ylabel('Distance (A)')\n",
    "ax.set_zlabel('Energy (kCal/mol)')\n",
    "plt.title('Energy Surface')\n",
    "\n",
    "# show plot\n",
    "plt.show()"
   ],
   "metadata": {
    "collapsed": false,
    "pycharm": {
     "name": "#%%\n"
    }
   }
  },
  {
   "cell_type": "code",
   "execution_count": null,
   "outputs": [],
   "source": [
    "\n",
    "# create 3D plot\n",
    "fig = plt.figure()\n",
    "ax = plt.axes(projection='3d')\n",
    "ax.plot_trisurf(distance, angle, energy, cmap='viridis', edgecolor='none')\n",
    "\n",
    "# add labels and title\n",
    "ax.set_xlabel('Angle (degree)')\n",
    "ax.set_ylabel('Distance (A)')\n",
    "ax.set_zlabel('Energy (kCal/mol)')\n",
    "plt.title('Energy Surface')\n",
    "\n",
    "# show plot\n",
    "plt.show()\n"
   ],
   "metadata": {
    "collapsed": false,
    "pycharm": {
     "name": "#%%\n"
    }
   }
  }
 ],
 "metadata": {
  "kernelspec": {
   "display_name": "Python 3",
   "language": "python",
   "name": "python3"
  },
  "language_info": {
   "codemirror_mode": {
    "name": "ipython",
    "version": 2
   },
   "file_extension": ".py",
   "mimetype": "text/x-python",
   "name": "python",
   "nbconvert_exporter": "python",
   "pygments_lexer": "ipython2",
   "version": "2.7.6"
  }
 },
 "nbformat": 4,
 "nbformat_minor": 0
}